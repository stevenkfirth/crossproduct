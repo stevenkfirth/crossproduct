{
 "cells": [
  {
   "cell_type": "code",
   "execution_count": 1,
   "id": "6307f9c8",
   "metadata": {},
   "outputs": [
    {
     "data": {
      "text/html": [
       "<div id=\"glowscript\" class=\"glowscript\"></div>"
      ],
      "text/plain": [
       "<IPython.core.display.HTML object>"
      ]
     },
     "metadata": {},
     "output_type": "display_data"
    },
    {
     "data": {
      "application/javascript": [
       "if (typeof Jupyter !== \"undefined\") { window.__context = { glowscript_container: $(\"#glowscript\").removeAttr(\"id\")};}else{ element.textContent = ' ';}"
      ],
      "text/plain": [
       "<IPython.core.display.Javascript object>"
      ]
     },
     "metadata": {},
     "output_type": "display_data"
    },
    {
     "name": "stdout",
     "output_type": "stream",
     "text": [
      "Point(1.0, 2.0, 3.0)\n"
     ]
    }
   ],
   "source": [
    "# Point\n",
    "from crossproduct import Point\n",
    "pt = Point(1,2,3)\n",
    "print(pt)"
   ]
  },
  {
   "cell_type": "code",
   "execution_count": 2,
   "id": "a141b6e1",
   "metadata": {},
   "outputs": [
    {
     "name": "stdout",
     "output_type": "stream",
     "text": [
      "Point(2.0, 3.0)\n"
     ]
    }
   ],
   "source": [
    "# Point.__add__\n",
    "from crossproduct import Point, Vector\n",
    "p = Point(1,2)\n",
    "result = p + Vector(1,1)\n",
    "print(result)"
   ]
  },
  {
   "cell_type": "code",
   "execution_count": 3,
   "id": "be806280",
   "metadata": {},
   "outputs": [
    {
     "name": "stdout",
     "output_type": "stream",
     "text": [
      "False\n"
     ]
    }
   ],
   "source": [
    "# Point.__eq__\n",
    "from crossproduct import Point\n",
    "p1 = Point(0,0)\n",
    "p2 = Point(0,1)\n",
    "result = p1==p2\n",
    "print(result)"
   ]
  },
  {
   "cell_type": "code",
   "execution_count": 4,
   "id": "881f3581",
   "metadata": {},
   "outputs": [
    {
     "name": "stdout",
     "output_type": "stream",
     "text": [
      "Vector(1.0, 0.0)\n"
     ]
    }
   ],
   "source": [
    "# Point.__sub__\n",
    "from crossproduct import Point\n",
    "result = Point(2,2) - Point(1,2)\n",
    "print(result)"
   ]
  },
  {
   "cell_type": "code",
   "execution_count": 5,
   "id": "d863207c",
   "metadata": {},
   "outputs": [
    {
     "name": "stdout",
     "output_type": "stream",
     "text": [
      "Point(1.0, 1.0, 2.0)\n"
     ]
    }
   ],
   "source": [
    "# Point.centroid\n",
    "from crossproduct import Point\n",
    "pt = Point(1,1,2)\n",
    "result = pt.centroid\n",
    "print(result)"
   ]
  },
  {
   "cell_type": "code",
   "execution_count": 6,
   "id": "a57034cd",
   "metadata": {},
   "outputs": [
    {
     "name": "stdout",
     "output_type": "stream",
     "text": [
      "(2.0, 2.0)\n"
     ]
    }
   ],
   "source": [
    "# Point.coordinates\n",
    "from crossproduct import Point\n",
    "pt = Point(2,2)\n",
    "result = pt.coordinates\n",
    "print(result)"
   ]
  },
  {
   "cell_type": "code",
   "execution_count": 7,
   "id": "5076e476",
   "metadata": {},
   "outputs": [
    {
     "name": "stdout",
     "output_type": "stream",
     "text": [
      "GeometryObjects(Point(1.0, 1.0))\n"
     ]
    }
   ],
   "source": [
    "# Point.difference\n",
    "from crossproduct import Point\n",
    "pt1 = Point(1,1)\n",
    "pt2 = Point(2,2)\n",
    "result = pt1.difference(pt2)\n",
    "print(result)"
   ]
  },
  {
   "cell_type": "code",
   "execution_count": 8,
   "id": "4a3cb0e3",
   "metadata": {},
   "outputs": [
    {
     "name": "stdout",
     "output_type": "stream",
     "text": [
      "False\n"
     ]
    }
   ],
   "source": [
    "# Point.equals\n",
    "from crossproduct import Point\n",
    "result = Point(1,2).equals(Point(2,2))\n",
    "print(result)"
   ]
  },
  {
   "cell_type": "code",
   "execution_count": 9,
   "id": "a1e124b0",
   "metadata": {},
   "outputs": [
    {
     "name": "stdout",
     "output_type": "stream",
     "text": [
      "GeometryObjects()\n"
     ]
    }
   ],
   "source": [
    "# Point.intersection\n",
    "from crossproduct import Point\n",
    "pt1 = Point(1,1)\n",
    "pt2 = Point(2,2)\n",
    "result = pt1.intersection(pt2)\n",
    "print(result)"
   ]
  },
  {
   "cell_type": "code",
   "execution_count": 10,
   "id": "cd976230",
   "metadata": {},
   "outputs": [
    {
     "name": "stdout",
     "output_type": "stream",
     "text": [
      "2\n"
     ]
    }
   ],
   "source": [
    "# Point.nD\n",
    "from crossproduct import Point\n",
    "pt = Point(1,1)\n",
    "print(pt.nD)"
   ]
  },
  {
   "cell_type": "code",
   "execution_count": 11,
   "id": "497f39da",
   "metadata": {},
   "outputs": [
    {
     "name": "stdout",
     "output_type": "stream",
     "text": [
      "Point(3.0, 1.0)\n"
     ]
    }
   ],
   "source": [
    "# Point.project_2D\n",
    "from crossproduct import Point\n",
    "pt = Point(1,2,3)\n",
    "result = pt.project_2D(1)\n",
    "print(result)"
   ]
  },
  {
   "cell_type": "code",
   "execution_count": 12,
   "id": "d43ffd34",
   "metadata": {},
   "outputs": [
    {
     "name": "stdout",
     "output_type": "stream",
     "text": [
      "Point(2.0, 2.0, 1.0)\n"
     ]
    }
   ],
   "source": [
    "# Point.project_3D\n",
    "from crossproduct import Point, Plane\n",
    "pt = Point(2,2)\n",
    "pl = Plane(Point(0,0,1), Vector(0,0,1))\n",
    "result = pt.project_3D(pl, 2)\n",
    "print(result)"
   ]
  },
  {
   "cell_type": "code",
   "execution_count": 13,
   "id": "a0a6eff4",
   "metadata": {},
   "outputs": [
    {
     "name": "stdout",
     "output_type": "stream",
     "text": [
      "0.0\n"
     ]
    }
   ],
   "source": [
    "# Point.x\n",
    "from crossproduct import Point\n",
    "pt = Point(0,1,2)\n",
    "result = pt.x\n",
    "print(result)"
   ]
  },
  {
   "cell_type": "code",
   "execution_count": 14,
   "id": "a92466d9",
   "metadata": {},
   "outputs": [
    {
     "name": "stdout",
     "output_type": "stream",
     "text": [
      "1.0\n"
     ]
    }
   ],
   "source": [
    "# Point.y\n",
    "from crossproduct import Point\n",
    "pt = Point(0,1,2)\n",
    "result = pt.y\n",
    "print(result)"
   ]
  },
  {
   "cell_type": "code",
   "execution_count": 15,
   "id": "580bb302",
   "metadata": {},
   "outputs": [
    {
     "name": "stdout",
     "output_type": "stream",
     "text": [
      "2.0\n"
     ]
    }
   ],
   "source": [
    "# Point.z\n",
    "from crossproduct import Point\n",
    "pt = Point(0,1,2)\n",
    "result = pt.z\n",
    "print(result)"
   ]
  },
  {
   "cell_type": "code",
   "execution_count": null,
   "id": "2c6b32ba",
   "metadata": {},
   "outputs": [],
   "source": []
  }
 ],
 "metadata": {
  "kernelspec": {
   "display_name": "Python 3",
   "language": "python",
   "name": "python3"
  },
  "language_info": {
   "codemirror_mode": {
    "name": "ipython",
    "version": 3
   },
   "file_extension": ".py",
   "mimetype": "text/x-python",
   "name": "python",
   "nbconvert_exporter": "python",
   "pygments_lexer": "ipython3",
   "version": "3.8.10"
  }
 },
 "nbformat": 4,
 "nbformat_minor": 5
}
