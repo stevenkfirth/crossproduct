{
 "cells": [
  {
   "cell_type": "code",
   "execution_count": 1,
   "id": "8a838186",
   "metadata": {},
   "outputs": [
    {
     "data": {
      "text/html": [
       "<div id=\"glowscript\" class=\"glowscript\"></div>"
      ],
      "text/plain": [
       "<IPython.core.display.HTML object>"
      ]
     },
     "metadata": {},
     "output_type": "display_data"
    },
    {
     "data": {
      "application/javascript": [
       "if (typeof Jupyter !== \"undefined\") { window.__context = { glowscript_container: $(\"#glowscript\").removeAttr(\"id\")};}else{ element.textContent = ' ';}"
      ],
      "text/plain": [
       "<IPython.core.display.Javascript object>"
      ]
     },
     "metadata": {},
     "output_type": "display_data"
    },
    {
     "name": "stdout",
     "output_type": "stream",
     "text": [
      "Vector(1.0, 2.0)\n"
     ]
    }
   ],
   "source": [
    "# Vector\n",
    "from crossproduct import Vector\n",
    "v = Vector(1,2)\n",
    "print(v)"
   ]
  },
  {
   "cell_type": "code",
   "execution_count": 2,
   "id": "16b03cfe",
   "metadata": {},
   "outputs": [
    {
     "name": "stdout",
     "output_type": "stream",
     "text": [
      "Vector(2.0, 3.0)\n"
     ]
    }
   ],
   "source": [
    "# Vector.__add__\n",
    "from crossproduct import Vector\n",
    "v = Vector(1,2)\n",
    "result = v + Vector(1,1)\n",
    "print(result)"
   ]
  },
  {
   "cell_type": "code",
   "execution_count": 5,
   "id": "1485cb71",
   "metadata": {},
   "outputs": [
    {
     "name": "stdout",
     "output_type": "stream",
     "text": [
      "True\n"
     ]
    }
   ],
   "source": [
    "# Vector.__eq__\n",
    "from crossproduct import Vector\n",
    "v = Vector(1,2)\n",
    "result = v==v\n",
    "print(result)"
   ]
  },
  {
   "cell_type": "code",
   "execution_count": 4,
   "id": "62923395",
   "metadata": {},
   "outputs": [
    {
     "name": "stdout",
     "output_type": "stream",
     "text": [
      "Vector(2.0, 4.0)\n"
     ]
    }
   ],
   "source": [
    "# Vector.__mul__\n",
    "from crossproduct import Vector\n",
    "v = Vector(1,2)\n",
    "result = v * 2\n",
    "print(result)"
   ]
  },
  {
   "cell_type": "code",
   "execution_count": 6,
   "id": "47461416",
   "metadata": {},
   "outputs": [
    {
     "name": "stdout",
     "output_type": "stream",
     "text": [
      "Vector(0.0, 1.0)\n"
     ]
    }
   ],
   "source": [
    "# Vector.__sub__\n",
    "from crossproduct import Vector\n",
    "v = Vector(1,2)\n",
    "result = v - Vector(1,1)\n",
    "print(result)"
   ]
  },
  {
   "cell_type": "code",
   "execution_count": 7,
   "id": "2866af58",
   "metadata": {},
   "outputs": [
    {
     "name": "stdout",
     "output_type": "stream",
     "text": [
      "0.7853981633974484\n"
     ]
    }
   ],
   "source": [
    "# Vector.angle\n",
    "from crossproduct import Vector\n",
    "v1=Vector(0,1)\n",
    "v2=Vector(1,1)\n",
    "result=v1.angle(v2)\n",
    "print(result)         "
   ]
  },
  {
   "cell_type": "code",
   "execution_count": 8,
   "id": "1fdcf6c2",
   "metadata": {},
   "outputs": [
    {
     "name": "stdout",
     "output_type": "stream",
     "text": [
      "(2.0, 2.0)\n"
     ]
    }
   ],
   "source": [
    "# Vector.coordinates\n",
    "from crossproduct import Vector\n",
    "v = Vector(2,2)\n",
    "result = v.coordinates\n",
    "print(result)"
   ]
  },
  {
   "cell_type": "code",
   "execution_count": 9,
   "id": "5eca21af",
   "metadata": {},
   "outputs": [
    {
     "name": "stdout",
     "output_type": "stream",
     "text": [
      "Vector(0.0, 0.0, 1.0)\n"
     ]
    }
   ],
   "source": [
    "# Vector.cross_product\n",
    "from crossproduct import Vector\n",
    "v1 = Vector(1,0,0)\n",
    "v2 = Vector(0,1,0)\n",
    "result = v1.cross_product(v2)\n",
    "print(result)"
   ]
  },
  {
   "cell_type": "code",
   "execution_count": 10,
   "id": "39b00e65",
   "metadata": {},
   "outputs": [
    {
     "name": "stdout",
     "output_type": "stream",
     "text": [
      "0.0\n"
     ]
    }
   ],
   "source": [
    "# Vector.dot\n",
    "from crossproduct import Vector\n",
    "v1 = Vector(1,0)\n",
    "v2 = Vector(0,1)               \n",
    "result = v1.dot(v2)\n",
    "print(result)"
   ]
  },
  {
   "cell_type": "code",
   "execution_count": 11,
   "id": "4948eddc",
   "metadata": {},
   "outputs": [
    {
     "name": "stdout",
     "output_type": "stream",
     "text": [
      "2\n"
     ]
    }
   ],
   "source": [
    "# Vector.index_largest_absolute_coordinate\n",
    "from crossproduct import Vector\n",
    "v = Vector(1,2,3)\n",
    "result = v.index_largest_absolute_coordinate\n",
    "print(result)"
   ]
  },
  {
   "cell_type": "code",
   "execution_count": 12,
   "id": "80059b1c",
   "metadata": {},
   "outputs": [
    {
     "name": "stdout",
     "output_type": "stream",
     "text": [
      "False\n"
     ]
    }
   ],
   "source": [
    "# Vector.is_codirectional\n",
    "from crossproduct import Vector\n",
    "v1 = Vector(1,1,1)\n",
    "v2 = Vector(1,0,0)\n",
    "result = v1.is_codirectional(v2)\n",
    "print(result)"
   ]
  },
  {
   "cell_type": "code",
   "execution_count": 13,
   "id": "2ec7776e",
   "metadata": {},
   "outputs": [
    {
     "name": "stdout",
     "output_type": "stream",
     "text": [
      "True\n"
     ]
    }
   ],
   "source": [
    "# Vector.is_collinear\n",
    "from crossproduct import Vector\n",
    "v1 = Vector(1,0,0)\n",
    "v2 = Vector(2,0,0)               \n",
    "result = v1.is_collinear(v2)\n",
    "print(result)"
   ]
  },
  {
   "cell_type": "code",
   "execution_count": 14,
   "id": "a6eb037a",
   "metadata": {},
   "outputs": [
    {
     "name": "stdout",
     "output_type": "stream",
     "text": [
      "True\n"
     ]
    }
   ],
   "source": [
    "# Vector.is_opposite\n",
    "from crossproduct import Vector\n",
    "v1 = Vector(1,2)\n",
    "v2 = Vector(-2,-4)\n",
    "result = v1.is_opposite(v2)\n",
    "print(result)"
   ]
  },
  {
   "cell_type": "code",
   "execution_count": 15,
   "id": "cbcdde9c",
   "metadata": {},
   "outputs": [
    {
     "name": "stdout",
     "output_type": "stream",
     "text": [
      "True\n"
     ]
    }
   ],
   "source": [
    "# Vector.is_perpendicular\n",
    "from crossproduct import Vector\n",
    "v1 = Vector(1,0,0)\n",
    "v2 = Vector(0,1,0)\n",
    "result = v1.is_perpendicular(v2)\n",
    "print(result)"
   ]
  },
  {
   "cell_type": "code",
   "execution_count": 16,
   "id": "b7422538",
   "metadata": {},
   "outputs": [
    {
     "name": "stdout",
     "output_type": "stream",
     "text": [
      "1.0\n"
     ]
    }
   ],
   "source": [
    "# Vector.length\n",
    "from crossproduct import Vector\n",
    "v = Vector(1,0)\n",
    "result = v.length\n",
    "print(result)"
   ]
  },
  {
   "cell_type": "code",
   "execution_count": 17,
   "id": "b6698161",
   "metadata": {},
   "outputs": [
    {
     "name": "stdout",
     "output_type": "stream",
     "text": [
      "2\n"
     ]
    }
   ],
   "source": [
    "# Vector.nD\n",
    "from crossproduct import Vector\n",
    "v = Vector(1,1)\n",
    "print(v.nD)"
   ]
  },
  {
   "cell_type": "code",
   "execution_count": 18,
   "id": "0ad9d810",
   "metadata": {},
   "outputs": [
    {
     "name": "stdout",
     "output_type": "stream",
     "text": [
      "Vector(1.0, 0.0)\n"
     ]
    }
   ],
   "source": [
    "# Vector.normalise\n",
    "from crossproduct import Vector\n",
    "v = Vector(3,0)\n",
    "result = v.normalise\n",
    "print(result)"
   ]
  },
  {
   "cell_type": "code",
   "execution_count": 19,
   "id": "a75513c0",
   "metadata": {},
   "outputs": [
    {
     "name": "stdout",
     "output_type": "stream",
     "text": [
      "Vector(-1.0, -2.0, -3.0)\n"
     ]
    }
   ],
   "source": [
    "# Vector.opposite\n",
    "from crossproduct import Vector\n",
    "v = Vector(1,2,3)\n",
    "result = v.opposite\n",
    "print(result)"
   ]
  },
  {
   "cell_type": "code",
   "execution_count": 20,
   "id": "9f7298d1",
   "metadata": {},
   "outputs": [
    {
     "name": "stdout",
     "output_type": "stream",
     "text": [
      "0.0\n"
     ]
    }
   ],
   "source": [
    "# Vector.perp_product\n",
    "from crossproduct import Vector\n",
    "v1 = Vector(1,0)\n",
    "v2 = Vector(1,0)               \n",
    "result = v1.perp_product(v2)\n",
    "print(result)"
   ]
  },
  {
   "cell_type": "code",
   "execution_count": 21,
   "id": "22a64072",
   "metadata": {},
   "outputs": [
    {
     "name": "stdout",
     "output_type": "stream",
     "text": [
      "Vector(-0.0, 1.0)\n"
     ]
    }
   ],
   "source": [
    "# Vector.perp_vector\n",
    "from crossproduct import Vector\n",
    "v = Vector(1,0)\n",
    "result = v.perp_vector\n",
    "print(result)"
   ]
  },
  {
   "cell_type": "code",
   "execution_count": 22,
   "id": "1ae1c649",
   "metadata": {},
   "outputs": [
    {
     "name": "stdout",
     "output_type": "stream",
     "text": [
      "1.0\n"
     ]
    }
   ],
   "source": [
    "# Vector.triple_product\n",
    "from crossproduct import Vector\n",
    "v1 = Vector(1,0,0)\n",
    "v2 = Vector(0,1,0)\n",
    "v3 = Vector(0,0,1)\n",
    "result = v1.triple_product(v2,v3)\n",
    "print(result)"
   ]
  },
  {
   "cell_type": "code",
   "execution_count": null,
   "id": "5388a2d2",
   "metadata": {},
   "outputs": [],
   "source": [
    "# Vector.x\n",
    "from crossproduct import Vector\n",
    "v = Vector(0,1,2)\n",
    "print(v.x)"
   ]
  },
  {
   "cell_type": "code",
   "execution_count": null,
   "id": "3517ea1f",
   "metadata": {},
   "outputs": [],
   "source": [
    "# Vector.y\n",
    "from crossproduct import Vector\n",
    "v = Vector(0,1,2)\n",
    "print(v.y)"
   ]
  },
  {
   "cell_type": "code",
   "execution_count": null,
   "id": "5750b10e",
   "metadata": {},
   "outputs": [],
   "source": [
    "# Vector.z\n",
    "from crossproduct import Vector\n",
    "v = Vector(0,1,2)\n",
    "print(v.z)"
   ]
  }
 ],
 "metadata": {
  "kernelspec": {
   "display_name": "Python 3",
   "language": "python",
   "name": "python3"
  },
  "language_info": {
   "codemirror_mode": {
    "name": "ipython",
    "version": 3
   },
   "file_extension": ".py",
   "mimetype": "text/x-python",
   "name": "python",
   "nbconvert_exporter": "python",
   "pygments_lexer": "ipython3",
   "version": "3.8.10"
  }
 },
 "nbformat": 4,
 "nbformat_minor": 5
}
