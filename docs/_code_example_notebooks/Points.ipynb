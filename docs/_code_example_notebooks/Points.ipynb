{
 "cells": [
  {
   "cell_type": "code",
   "execution_count": 2,
   "id": "b475f9c6",
   "metadata": {},
   "outputs": [
    {
     "name": "stdout",
     "output_type": "stream",
     "text": [
      "Points(Point(0.0, 0.0), Point(1.0, 0.0))\n"
     ]
    }
   ],
   "source": [
    "# Points\n",
    "from crossproduct import Point, Points\n",
    "pts = Points(Point(0,0), Point(1,0))\n",
    "print(pts)"
   ]
  },
  {
   "cell_type": "code",
   "execution_count": 3,
   "id": "cc6ffe47",
   "metadata": {},
   "outputs": [
    {
     "name": "stdout",
     "output_type": "stream",
     "text": [
      "True\n"
     ]
    }
   ],
   "source": [
    "# Points.__eq__\n",
    "from crossproduct import Point, Points\n",
    "pts = Points(Point(0,0), Point(1,0))\n",
    "result = pts==pts\n",
    "print(result)"
   ]
  },
  {
   "cell_type": "code",
   "execution_count": 4,
   "id": "f4daccec",
   "metadata": {},
   "outputs": [
    {
     "name": "stdout",
     "output_type": "stream",
     "text": [
      "Point(0.5, 0.0)\n"
     ]
    }
   ],
   "source": [
    "# Points.centroid\n",
    "from crossproduct import Point, Points\n",
    "pts = Points(Point(0,0), Point(1,0))\n",
    "result = pts.centroid\n",
    "print(result)"
   ]
  },
  {
   "cell_type": "code",
   "execution_count": 5,
   "id": "a5a03d85",
   "metadata": {},
   "outputs": [
    {
     "name": "stdout",
     "output_type": "stream",
     "text": [
      "((0.0, 0.0), (1.0, 0.0))\n"
     ]
    }
   ],
   "source": [
    "# Points.coordinates\n",
    "from crossproduct import Point, Points\n",
    "pts = Points(Point(0,0), Point(1,0))\n",
    "result = pts.coordinates\n",
    "print(result)"
   ]
  },
  {
   "cell_type": "code",
   "execution_count": 6,
   "id": "7948de0a",
   "metadata": {},
   "outputs": [
    {
     "name": "stdout",
     "output_type": "stream",
     "text": [
      "GeometryObjects(Point(1.0, 0.0))\n"
     ]
    }
   ],
   "source": [
    "# Points.difference\n",
    "from crossproduct import Point, Points\n",
    "pts = Points(Point(0,0), Point(1,0))\n",
    "result = pts.difference(Point(0,0))\n",
    "print(result)"
   ]
  },
  {
   "cell_type": "code",
   "execution_count": 7,
   "id": "21a8db13",
   "metadata": {},
   "outputs": [
    {
     "name": "stdout",
     "output_type": "stream",
     "text": [
      "GeometryObjects(Point(0.0, 0.0))\n"
     ]
    }
   ],
   "source": [
    "# Points.intersection\n",
    "from crossproduct import Point, Points\n",
    "pts = Points(Point(0,0), Point(1,0))\n",
    "result = pts.intersection(Point(0,0))\n",
    "print(result)"
   ]
  },
  {
   "cell_type": "code",
   "execution_count": 8,
   "id": "6126fed0",
   "metadata": {},
   "outputs": [
    {
     "name": "stdout",
     "output_type": "stream",
     "text": [
      "2\n"
     ]
    }
   ],
   "source": [
    "# Points.nD\n",
    "from crossproduct import Point, Points\n",
    "pts = Points(Point(0,0), Point(1,0))\n",
    "result = pts.nD\n",
    "print(result)"
   ]
  },
  {
   "cell_type": "code",
   "execution_count": 11,
   "id": "753a6664",
   "metadata": {},
   "outputs": [
    {
     "name": "stdout",
     "output_type": "stream",
     "text": [
      "Points(Point(0.0, 0.0), Point(0.0, 1.0))\n"
     ]
    }
   ],
   "source": [
    "# Points.project_2D\n",
    "from crossproduct import Point, Points\n",
    "pts = Points(Point(0,0,0), Point(1,0,0))\n",
    "result = pts.project_2D(1)\n",
    "print(result)"
   ]
  },
  {
   "cell_type": "code",
   "execution_count": 16,
   "id": "ca354ae2",
   "metadata": {},
   "outputs": [
    {
     "name": "stdout",
     "output_type": "stream",
     "text": [
      "Points(Point(0.0, 0.0, 1.0), Point(1.0, 0.0, 1.0))\n"
     ]
    }
   ],
   "source": [
    "# Points.project_3D\n",
    "from crossproduct import Point, Points, Vector, Plane\n",
    "pts = Points(Point(0,0,0), Point(1,0,0))\n",
    "pl = Plane(Point(0,0,1), Vector(0,0,1))\n",
    "result = pts.project_3D(pl,2)\n",
    "print(result)"
   ]
  }
 ],
 "metadata": {
  "kernelspec": {
   "display_name": "Python 3",
   "language": "python",
   "name": "python3"
  },
  "language_info": {
   "codemirror_mode": {
    "name": "ipython",
    "version": 3
   },
   "file_extension": ".py",
   "mimetype": "text/x-python",
   "name": "python",
   "nbconvert_exporter": "python",
   "pygments_lexer": "ipython3",
   "version": "3.8.10"
  }
 },
 "nbformat": 4,
 "nbformat_minor": 5
}
